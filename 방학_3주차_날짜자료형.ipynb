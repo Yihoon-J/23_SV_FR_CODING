{
 "cells": [
  {
   "cell_type": "markdown",
   "metadata": {},
   "source": [
    "# 시간 자료형 다루기\n",
    "Python에서 시간 정보를 다룰 때는 상당한 주의가 필요합니다. 시간 정보를 담는 자료형과 패키지가 여러 가지이기 때문입니다.\n",
    "\n",
    "* numpy 패키지에서는 `datetime64` 자료형이 있으며,\n",
    "* pandas 패키지에서는 `timestamp` 자료형을 사용하고,\n",
    "* datetime 패키지에서는 `datetime`, `date`, `time` 자료형이 있습니다.\n",
    "\n",
    "이 모든 것들을 다 다루기에는 너무 방대하고, 개인적으로 생각했을 때 가장 사용이 편하고 널리 볼 수 있는 datetime, 자료형을 다루는 기본 연산을 알아보겠습니다."
   ]
  },
  {
   "cell_type": "code",
   "execution_count": 1,
   "metadata": {},
   "outputs": [],
   "source": [
    "import numpy as np\n",
    "import pandas as pd\n",
    "import datetime as dt"
   ]
  },
  {
   "cell_type": "markdown",
   "metadata": {},
   "source": [
    "## 지난 학기 복습\n",
    "### Timestamp\n",
    "지난 학기에 삼성전자 데이터셋을 통해 다룬 시간 자료형은 Pandas 패키지에 내장된 timestamp에 해당합니다.\n",
    "\n",
    "pandas로 데이터프레임을 읽어올 때 parse_dates옵션을 지정하면, 인덱스를 timestamp자료형으로 변환 가능한 경우 변환해 줍니다."
   ]
  },
  {
   "cell_type": "code",
   "execution_count": 2,
   "metadata": {},
   "outputs": [
    {
     "data": {
      "text/html": [
       "<div>\n",
       "<style scoped>\n",
       "    .dataframe tbody tr th:only-of-type {\n",
       "        vertical-align: middle;\n",
       "    }\n",
       "\n",
       "    .dataframe tbody tr th {\n",
       "        vertical-align: top;\n",
       "    }\n",
       "\n",
       "    .dataframe thead th {\n",
       "        text-align: right;\n",
       "    }\n",
       "</style>\n",
       "<table border=\"1\" class=\"dataframe\">\n",
       "  <thead>\n",
       "    <tr style=\"text-align: right;\">\n",
       "      <th></th>\n",
       "      <th>Bitcoin</th>\n",
       "      <th>Ethereum</th>\n",
       "      <th>Litecoin</th>\n",
       "    </tr>\n",
       "    <tr>\n",
       "      <th>Date</th>\n",
       "      <th></th>\n",
       "      <th></th>\n",
       "      <th></th>\n",
       "    </tr>\n",
       "  </thead>\n",
       "  <tbody>\n",
       "    <tr>\n",
       "      <th>2023-07-27</th>\n",
       "      <td>29190.0</td>\n",
       "      <td>1859.03</td>\n",
       "      <td>90.47</td>\n",
       "    </tr>\n",
       "    <tr>\n",
       "      <th>2023-07-26</th>\n",
       "      <td>29352.2</td>\n",
       "      <td>1872.00</td>\n",
       "      <td>90.66</td>\n",
       "    </tr>\n",
       "    <tr>\n",
       "      <th>2023-07-25</th>\n",
       "      <td>29228.6</td>\n",
       "      <td>1857.67</td>\n",
       "      <td>89.45</td>\n",
       "    </tr>\n",
       "    <tr>\n",
       "      <th>2023-07-24</th>\n",
       "      <td>29178.1</td>\n",
       "      <td>1850.04</td>\n",
       "      <td>89.14</td>\n",
       "    </tr>\n",
       "    <tr>\n",
       "      <th>2023-07-23</th>\n",
       "      <td>30085.9</td>\n",
       "      <td>1888.85</td>\n",
       "      <td>93.15</td>\n",
       "    </tr>\n",
       "    <tr>\n",
       "      <th>...</th>\n",
       "      <td>...</td>\n",
       "      <td>...</td>\n",
       "      <td>...</td>\n",
       "    </tr>\n",
       "    <tr>\n",
       "      <th>2022-07-31</th>\n",
       "      <td>23303.4</td>\n",
       "      <td>1680.00</td>\n",
       "      <td>59.77</td>\n",
       "    </tr>\n",
       "    <tr>\n",
       "      <th>2022-07-30</th>\n",
       "      <td>23634.2</td>\n",
       "      <td>1695.97</td>\n",
       "      <td>60.40</td>\n",
       "    </tr>\n",
       "    <tr>\n",
       "      <th>2022-07-29</th>\n",
       "      <td>23774.3</td>\n",
       "      <td>1720.77</td>\n",
       "      <td>60.62</td>\n",
       "    </tr>\n",
       "    <tr>\n",
       "      <th>2022-07-28</th>\n",
       "      <td>23850.0</td>\n",
       "      <td>1726.01</td>\n",
       "      <td>63.47</td>\n",
       "    </tr>\n",
       "    <tr>\n",
       "      <th>2022-07-27</th>\n",
       "      <td>22958.3</td>\n",
       "      <td>1636.01</td>\n",
       "      <td>59.00</td>\n",
       "    </tr>\n",
       "  </tbody>\n",
       "</table>\n",
       "<p>366 rows × 3 columns</p>\n",
       "</div>"
      ],
      "text/plain": [
       "            Bitcoin  Ethereum  Litecoin\n",
       "Date                                   \n",
       "2023-07-27  29190.0   1859.03     90.47\n",
       "2023-07-26  29352.2   1872.00     90.66\n",
       "2023-07-25  29228.6   1857.67     89.45\n",
       "2023-07-24  29178.1   1850.04     89.14\n",
       "2023-07-23  30085.9   1888.85     93.15\n",
       "...             ...       ...       ...\n",
       "2022-07-31  23303.4   1680.00     59.77\n",
       "2022-07-30  23634.2   1695.97     60.40\n",
       "2022-07-29  23774.3   1720.77     60.62\n",
       "2022-07-28  23850.0   1726.01     63.47\n",
       "2022-07-27  22958.3   1636.01     59.00\n",
       "\n",
       "[366 rows x 3 columns]"
      ]
     },
     "execution_count": 2,
     "metadata": {},
     "output_type": "execute_result"
    }
   ],
   "source": [
    "coins=pd.read_csv(\"/Users/yihoon-j/Documents/fr/2학기 교안 작업/Coin.csv\", thousands=\",\", index_col=0, parse_dates=True)\n",
    "coins"
   ]
  },
  {
   "cell_type": "code",
   "execution_count": 3,
   "metadata": {},
   "outputs": [
    {
     "data": {
      "text/plain": [
       "Timestamp('2023-07-27 00:00:00')"
      ]
     },
     "execution_count": 3,
     "metadata": {},
     "output_type": "execute_result"
    }
   ],
   "source": [
    "coins.index[0] #index가 timestamp로 인식되는 것을 볼 수 있습니다. parse_dates옵션이 없을 때 (False일 때)와 출력을 비교해보세요."
   ]
  },
  {
   "cell_type": "markdown",
   "metadata": {},
   "source": [
    "## Datetime / Date 자료형 만들기\n",
    "시간 정보를 담는 또 다른 자료형은 Datetime, Date입니다. 날짜/시간 데이터 패키지인 datetime패키지가 필요한 자료형입니다.\n",
    "\n",
    "두 자료형의 차이는 시간 정보의 유무입니다."
   ]
  },
  {
   "cell_type": "code",
   "execution_count": 4,
   "metadata": {},
   "outputs": [
    {
     "data": {
      "text/plain": [
       "datetime.datetime(2023, 8, 5, 15, 12)"
      ]
     },
     "execution_count": 4,
     "metadata": {},
     "output_type": "execute_result"
    }
   ],
   "source": [
    "a=dt.datetime(2023,8, 5, 15, 12) #연, 월, 일, 시, 분. 시 분은 입력하지 않으면 0이 기본으로 입력되며, 뒤에 초 (0~59), 백만분의 일초 (0~999,999) 인자를 추가할 수도 있다.\n",
    "a"
   ]
  },
  {
   "cell_type": "markdown",
   "metadata": {},
   "source": [
    "year, month, day, hour, minute, day 인자로 각 시간 요소를 추출할 수 있다"
   ]
  },
  {
   "cell_type": "code",
   "execution_count": 5,
   "metadata": {},
   "outputs": [
    {
     "data": {
      "text/plain": [
       "2023"
      ]
     },
     "execution_count": 5,
     "metadata": {},
     "output_type": "execute_result"
    }
   ],
   "source": [
    "a.year"
   ]
  },
  {
   "cell_type": "code",
   "execution_count": 6,
   "metadata": {},
   "outputs": [
    {
     "data": {
      "text/plain": [
       "datetime.date(2023, 8, 5)"
      ]
     },
     "execution_count": 6,
     "metadata": {},
     "output_type": "execute_result"
    }
   ],
   "source": [
    "#아래에서 다룰 strptime, strftime 인자나 다른 시간 자료형들이 전부 시, 분, 초 단위를 포함하고 있기 때문에, datetime 인자를 쓸 일이 압도적으로 많긴 합니다.\n",
    "dt.date(2023, 8,5)"
   ]
  },
  {
   "cell_type": "markdown",
   "metadata": {},
   "source": [
    "## strptime\n",
    "이렇게 직접 시간 자료형을 만드는 경우도 있지만 (학기 후반부에서 다룰 ELS코드는 이 방법을 사용), 데이터프레임을 만질 때는 문자 자료형을 날짜 자료형으로 바꾸는 경우가 흔히 발생합니다.\n",
    "\n",
    "날짜 자료형으로 인식해야만 적절한 처리 (날짜 덧셈 및 뺄셈, 다른 형식으로 표시되도록 변경)이 가능하기 때문입니다.\n",
    "\n",
    "텍스트 자료형에서 날짜를 읽어 오는 함수로는 datetime 패키지 내 datetime 모듈의 strptime이 가장 널리 사용되며, datetime 외 datetime64, timestamp 등의 자료형에도 사용이 가능합니다."
   ]
  },
  {
   "cell_type": "code",
   "execution_count": 7,
   "metadata": {},
   "outputs": [
    {
     "data": {
      "text/plain": [
       "'Jul 27, 2023'"
      ]
     },
     "execution_count": 7,
     "metadata": {},
     "output_type": "execute_result"
    }
   ],
   "source": [
    "coins=pd.read_csv(\"/Users/yihoon-j/Documents/fr/2학기 교안 작업/Coin.csv\", thousands=\",\")\n",
    "coins['Date'][0]"
   ]
  },
  {
   "cell_type": "code",
   "execution_count": 8,
   "metadata": {},
   "outputs": [
    {
     "data": {
      "text/plain": [
       "Timestamp('2023-07-27 00:00:00')"
      ]
     },
     "execution_count": 8,
     "metadata": {},
     "output_type": "execute_result"
    }
   ],
   "source": [
    "coins['Date']=coins['Date'].apply(lambda x: dt.datetime.strptime(x,'%b %d, %Y'))\n",
    "coins['Date'][0]"
   ]
  },
  {
   "cell_type": "markdown",
   "metadata": {},
   "source": [
    "## Timedelta / Relativedelta\n",
    "두 시점 간의 **시간 차이**를 담고 있는 자료형입니다.\n",
    "timedelta 자료형은 일(日) 이하의 짧은 시간을 다루며, datetime 패키지 안에 내장되어 있습니다."
   ]
  },
  {
   "cell_type": "code",
   "execution_count": 9,
   "metadata": {},
   "outputs": [
    {
     "data": {
      "text/plain": [
       "datetime.timedelta(days=8)"
      ]
     },
     "execution_count": 9,
     "metadata": {},
     "output_type": "execute_result"
    }
   ],
   "source": [
    "dt.timedelta(days=8) #\"8일의 기간\"의 의미에 해당하는 자료형입니다."
   ]
  },
  {
   "cell_type": "code",
   "execution_count": 10,
   "metadata": {},
   "outputs": [
    {
     "data": {
      "text/plain": [
       "Timestamp('2023-08-04 00:00:00')"
      ]
     },
     "execution_count": 10,
     "metadata": {},
     "output_type": "execute_result"
    }
   ],
   "source": [
    "#원래 날짜에 8일을 더해 주는 방법\n",
    "coins['Date'][0]+dt.timedelta(days=8)"
   ]
  },
  {
   "cell_type": "code",
   "execution_count": 11,
   "metadata": {},
   "outputs": [
    {
     "data": {
      "text/plain": [
       "Timedelta('23 days 00:00:00')"
      ]
     },
     "execution_count": 11,
     "metadata": {},
     "output_type": "execute_result"
    }
   ],
   "source": [
    "#23일 차이 나는 두 날짜 간 뺄셈을 수행하면 23일에 해당하는 timedelta가 반환됩니다.\n",
    "coins['Date'][0] - coins['Date'][23]"
   ]
  },
  {
   "cell_type": "markdown",
   "metadata": {},
   "source": [
    "timedelta에서는 days외에도 weeks, hours, minutes 등의 변수를 통해 날짜 변화량 계산이 가능합니다.\n",
    "\n",
    "하지만 month, year 인자는 존재하지 않기 때문에, 월/연 단위 이동이 필요하다면 별도의 relativedelta 패키지를 이용해야 합니다.\n",
    "\n",
    "엄밀히 말하면 두 패키지에서 다루는 자료형은 완전히 다릅니다. 하지만 연산이 서로 호환이 되기 때문에 크게 신경쓰지는 않아도 됩니다."
   ]
  },
  {
   "cell_type": "code",
   "execution_count": 12,
   "metadata": {},
   "outputs": [
    {
     "data": {
      "text/plain": [
       "Timestamp('2023-08-27 00:00:00')"
      ]
     },
     "execution_count": 12,
     "metadata": {},
     "output_type": "execute_result"
    }
   ],
   "source": [
    "from dateutil.relativedelta import relativedelta\n",
    "coins['Date'][0]+relativedelta(months=1)"
   ]
  },
  {
   "cell_type": "markdown",
   "metadata": {},
   "source": [
    "### 응용: 매월 1일의 값을 매월 말일 값으로 바꾸기\n",
    "월초 가격을 월말 가격과 대응해야 하는 경우가 존재합니다. 이 경우 조인을 위해 이런 기법을 종종 사용하는 경우가 있습니다.\n"
   ]
  },
  {
   "cell_type": "code",
   "execution_count": 14,
   "metadata": {},
   "outputs": [
    {
     "data": {
      "text/html": [
       "<div>\n",
       "<style scoped>\n",
       "    .dataframe tbody tr th:only-of-type {\n",
       "        vertical-align: middle;\n",
       "    }\n",
       "\n",
       "    .dataframe tbody tr th {\n",
       "        vertical-align: top;\n",
       "    }\n",
       "\n",
       "    .dataframe thead th {\n",
       "        text-align: right;\n",
       "    }\n",
       "</style>\n",
       "<table border=\"1\" class=\"dataframe\">\n",
       "  <thead>\n",
       "    <tr style=\"text-align: right;\">\n",
       "      <th></th>\n",
       "      <th>Date</th>\n",
       "      <th>Bitcoin</th>\n",
       "      <th>Ethereum</th>\n",
       "      <th>Litecoin</th>\n",
       "    </tr>\n",
       "  </thead>\n",
       "  <tbody>\n",
       "    <tr>\n",
       "      <th>26</th>\n",
       "      <td>2023-07-01</td>\n",
       "      <td>30586.8</td>\n",
       "      <td>1924.53</td>\n",
       "      <td>107.34</td>\n",
       "    </tr>\n",
       "    <tr>\n",
       "      <th>56</th>\n",
       "      <td>2023-06-01</td>\n",
       "      <td>26819.0</td>\n",
       "      <td>1861.77</td>\n",
       "      <td>94.18</td>\n",
       "    </tr>\n",
       "    <tr>\n",
       "      <th>87</th>\n",
       "      <td>2023-05-01</td>\n",
       "      <td>28077.6</td>\n",
       "      <td>1830.75</td>\n",
       "      <td>86.76</td>\n",
       "    </tr>\n",
       "    <tr>\n",
       "      <th>117</th>\n",
       "      <td>2023-04-01</td>\n",
       "      <td>28456.1</td>\n",
       "      <td>1820.78</td>\n",
       "      <td>92.56</td>\n",
       "    </tr>\n",
       "    <tr>\n",
       "      <th>148</th>\n",
       "      <td>2023-03-01</td>\n",
       "      <td>23642.2</td>\n",
       "      <td>1666.09</td>\n",
       "      <td>97.85</td>\n",
       "    </tr>\n",
       "    <tr>\n",
       "      <th>176</th>\n",
       "      <td>2023-02-01</td>\n",
       "      <td>23725.6</td>\n",
       "      <td>1642.10</td>\n",
       "      <td>100.33</td>\n",
       "    </tr>\n",
       "    <tr>\n",
       "      <th>207</th>\n",
       "      <td>2023-01-01</td>\n",
       "      <td>16618.4</td>\n",
       "      <td>1200.52</td>\n",
       "      <td>70.91</td>\n",
       "    </tr>\n",
       "    <tr>\n",
       "      <th>238</th>\n",
       "      <td>2022-12-01</td>\n",
       "      <td>16972.0</td>\n",
       "      <td>1276.05</td>\n",
       "      <td>77.56</td>\n",
       "    </tr>\n",
       "    <tr>\n",
       "      <th>268</th>\n",
       "      <td>2022-11-01</td>\n",
       "      <td>20483.5</td>\n",
       "      <td>1579.64</td>\n",
       "      <td>55.12</td>\n",
       "    </tr>\n",
       "    <tr>\n",
       "      <th>299</th>\n",
       "      <td>2022-10-01</td>\n",
       "      <td>19311.9</td>\n",
       "      <td>1311.80</td>\n",
       "      <td>52.92</td>\n",
       "    </tr>\n",
       "    <tr>\n",
       "      <th>329</th>\n",
       "      <td>2022-09-01</td>\n",
       "      <td>20126.1</td>\n",
       "      <td>1585.48</td>\n",
       "      <td>57.55</td>\n",
       "    </tr>\n",
       "    <tr>\n",
       "      <th>360</th>\n",
       "      <td>2022-08-01</td>\n",
       "      <td>23271.2</td>\n",
       "      <td>1630.10</td>\n",
       "      <td>59.47</td>\n",
       "    </tr>\n",
       "  </tbody>\n",
       "</table>\n",
       "</div>"
      ],
      "text/plain": [
       "          Date  Bitcoin  Ethereum  Litecoin\n",
       "26  2023-07-01  30586.8   1924.53    107.34\n",
       "56  2023-06-01  26819.0   1861.77     94.18\n",
       "87  2023-05-01  28077.6   1830.75     86.76\n",
       "117 2023-04-01  28456.1   1820.78     92.56\n",
       "148 2023-03-01  23642.2   1666.09     97.85\n",
       "176 2023-02-01  23725.6   1642.10    100.33\n",
       "207 2023-01-01  16618.4   1200.52     70.91\n",
       "238 2022-12-01  16972.0   1276.05     77.56\n",
       "268 2022-11-01  20483.5   1579.64     55.12\n",
       "299 2022-10-01  19311.9   1311.80     52.92\n",
       "329 2022-09-01  20126.1   1585.48     57.55\n",
       "360 2022-08-01  23271.2   1630.10     59.47"
      ]
     },
     "execution_count": 14,
     "metadata": {},
     "output_type": "execute_result"
    }
   ],
   "source": [
    "day1s=coins[coins['Date'].apply(lambda x: x.day)==1]\n",
    "day1s\n"
   ]
  },
  {
   "cell_type": "code",
   "execution_count": 19,
   "metadata": {},
   "outputs": [
    {
     "name": "stderr",
     "output_type": "stream",
     "text": [
      "/var/folders/_x/6zxfdhhj0cn8q6l5rd4411y80000gn/T/ipykernel_90525/2357087070.py:1: SettingWithCopyWarning: \n",
      "A value is trying to be set on a copy of a slice from a DataFrame.\n",
      "Try using .loc[row_indexer,col_indexer] = value instead\n",
      "\n",
      "See the caveats in the documentation: https://pandas.pydata.org/pandas-docs/stable/user_guide/indexing.html#returning-a-view-versus-a-copy\n",
      "  day1s['Date_last']=day1s['Date'].apply(lambda x: x+relativedelta(months=1)-dt.timedelta(days=1))\n"
     ]
    },
    {
     "data": {
      "text/html": [
       "<div>\n",
       "<style scoped>\n",
       "    .dataframe tbody tr th:only-of-type {\n",
       "        vertical-align: middle;\n",
       "    }\n",
       "\n",
       "    .dataframe tbody tr th {\n",
       "        vertical-align: top;\n",
       "    }\n",
       "\n",
       "    .dataframe thead th {\n",
       "        text-align: right;\n",
       "    }\n",
       "</style>\n",
       "<table border=\"1\" class=\"dataframe\">\n",
       "  <thead>\n",
       "    <tr style=\"text-align: right;\">\n",
       "      <th></th>\n",
       "      <th>Date</th>\n",
       "      <th>Bitcoin</th>\n",
       "      <th>Ethereum</th>\n",
       "      <th>Litecoin</th>\n",
       "      <th>Date_last</th>\n",
       "    </tr>\n",
       "  </thead>\n",
       "  <tbody>\n",
       "    <tr>\n",
       "      <th>26</th>\n",
       "      <td>2023-07-01</td>\n",
       "      <td>30586.8</td>\n",
       "      <td>1924.53</td>\n",
       "      <td>107.34</td>\n",
       "      <td>2023-07-31</td>\n",
       "    </tr>\n",
       "    <tr>\n",
       "      <th>56</th>\n",
       "      <td>2023-06-01</td>\n",
       "      <td>26819.0</td>\n",
       "      <td>1861.77</td>\n",
       "      <td>94.18</td>\n",
       "      <td>2023-06-30</td>\n",
       "    </tr>\n",
       "    <tr>\n",
       "      <th>87</th>\n",
       "      <td>2023-05-01</td>\n",
       "      <td>28077.6</td>\n",
       "      <td>1830.75</td>\n",
       "      <td>86.76</td>\n",
       "      <td>2023-05-31</td>\n",
       "    </tr>\n",
       "    <tr>\n",
       "      <th>117</th>\n",
       "      <td>2023-04-01</td>\n",
       "      <td>28456.1</td>\n",
       "      <td>1820.78</td>\n",
       "      <td>92.56</td>\n",
       "      <td>2023-04-30</td>\n",
       "    </tr>\n",
       "    <tr>\n",
       "      <th>148</th>\n",
       "      <td>2023-03-01</td>\n",
       "      <td>23642.2</td>\n",
       "      <td>1666.09</td>\n",
       "      <td>97.85</td>\n",
       "      <td>2023-03-31</td>\n",
       "    </tr>\n",
       "    <tr>\n",
       "      <th>176</th>\n",
       "      <td>2023-02-01</td>\n",
       "      <td>23725.6</td>\n",
       "      <td>1642.10</td>\n",
       "      <td>100.33</td>\n",
       "      <td>2023-02-28</td>\n",
       "    </tr>\n",
       "    <tr>\n",
       "      <th>207</th>\n",
       "      <td>2023-01-01</td>\n",
       "      <td>16618.4</td>\n",
       "      <td>1200.52</td>\n",
       "      <td>70.91</td>\n",
       "      <td>2023-01-31</td>\n",
       "    </tr>\n",
       "    <tr>\n",
       "      <th>238</th>\n",
       "      <td>2022-12-01</td>\n",
       "      <td>16972.0</td>\n",
       "      <td>1276.05</td>\n",
       "      <td>77.56</td>\n",
       "      <td>2022-12-31</td>\n",
       "    </tr>\n",
       "    <tr>\n",
       "      <th>268</th>\n",
       "      <td>2022-11-01</td>\n",
       "      <td>20483.5</td>\n",
       "      <td>1579.64</td>\n",
       "      <td>55.12</td>\n",
       "      <td>2022-11-30</td>\n",
       "    </tr>\n",
       "    <tr>\n",
       "      <th>299</th>\n",
       "      <td>2022-10-01</td>\n",
       "      <td>19311.9</td>\n",
       "      <td>1311.80</td>\n",
       "      <td>52.92</td>\n",
       "      <td>2022-10-31</td>\n",
       "    </tr>\n",
       "    <tr>\n",
       "      <th>329</th>\n",
       "      <td>2022-09-01</td>\n",
       "      <td>20126.1</td>\n",
       "      <td>1585.48</td>\n",
       "      <td>57.55</td>\n",
       "      <td>2022-09-30</td>\n",
       "    </tr>\n",
       "    <tr>\n",
       "      <th>360</th>\n",
       "      <td>2022-08-01</td>\n",
       "      <td>23271.2</td>\n",
       "      <td>1630.10</td>\n",
       "      <td>59.47</td>\n",
       "      <td>2022-08-31</td>\n",
       "    </tr>\n",
       "  </tbody>\n",
       "</table>\n",
       "</div>"
      ],
      "text/plain": [
       "          Date  Bitcoin  Ethereum  Litecoin  Date_last\n",
       "26  2023-07-01  30586.8   1924.53    107.34 2023-07-31\n",
       "56  2023-06-01  26819.0   1861.77     94.18 2023-06-30\n",
       "87  2023-05-01  28077.6   1830.75     86.76 2023-05-31\n",
       "117 2023-04-01  28456.1   1820.78     92.56 2023-04-30\n",
       "148 2023-03-01  23642.2   1666.09     97.85 2023-03-31\n",
       "176 2023-02-01  23725.6   1642.10    100.33 2023-02-28\n",
       "207 2023-01-01  16618.4   1200.52     70.91 2023-01-31\n",
       "238 2022-12-01  16972.0   1276.05     77.56 2022-12-31\n",
       "268 2022-11-01  20483.5   1579.64     55.12 2022-11-30\n",
       "299 2022-10-01  19311.9   1311.80     52.92 2022-10-31\n",
       "329 2022-09-01  20126.1   1585.48     57.55 2022-09-30\n",
       "360 2022-08-01  23271.2   1630.10     59.47 2022-08-31"
      ]
     },
     "execution_count": 19,
     "metadata": {},
     "output_type": "execute_result"
    }
   ],
   "source": [
    "#어떻게 해야 할까요? 고민해봅시다\n",
    "day1s['Date_last']=day1s['Date'].apply(lambda x: ???)\n",
    "day1s"
   ]
  },
  {
   "cell_type": "markdown",
   "metadata": {},
   "source": [
    "## strftime\n",
    "\n",
    "텍스트를 날짜로 바꾸는 함수가 strptime이라면,\n",
    "\n",
    "거꾸로 날짜 자료형을 텍스트로 바꿔 주는 함수는 strftime입니다.\n",
    "\n",
    "- 텍스트형으로 되어 있는 다른 데이터와 날짜를 맞출 때\n",
    "\n",
    "- 불필요한 시/분/초 부분이 보기 싫을 때\n",
    "\n",
    "이런 경우 종종 사용하는 함수입니다."
   ]
  },
  {
   "cell_type": "code",
   "execution_count": 21,
   "metadata": {},
   "outputs": [
    {
     "data": {
      "text/plain": [
       "Timestamp('2023-07-27 00:00:00')"
      ]
     },
     "execution_count": 21,
     "metadata": {},
     "output_type": "execute_result"
    }
   ],
   "source": [
    "coins['Date'][0]"
   ]
  },
  {
   "cell_type": "code",
   "execution_count": 22,
   "metadata": {},
   "outputs": [
    {
     "data": {
      "text/plain": [
       "'23/07/27'"
      ]
     },
     "execution_count": 22,
     "metadata": {},
     "output_type": "execute_result"
    }
   ],
   "source": [
    "coins['Date'][0].strftime('%y/%m/%d')"
   ]
  },
  {
   "cell_type": "markdown",
   "metadata": {},
   "source": [
    "strptime, strftime을 결합하여, 텍스트 형태로 되어 있는 날짜 데이터를 다른 형식으로 변환할 수 있습니다.\n",
    "예를 들어, coins 데이터의 현재 날짜 인덱스는"
   ]
  },
  {
   "cell_type": "code",
   "execution_count": 23,
   "metadata": {},
   "outputs": [
    {
     "data": {
      "text/html": [
       "<div>\n",
       "<style scoped>\n",
       "    .dataframe tbody tr th:only-of-type {\n",
       "        vertical-align: middle;\n",
       "    }\n",
       "\n",
       "    .dataframe tbody tr th {\n",
       "        vertical-align: top;\n",
       "    }\n",
       "\n",
       "    .dataframe thead th {\n",
       "        text-align: right;\n",
       "    }\n",
       "</style>\n",
       "<table border=\"1\" class=\"dataframe\">\n",
       "  <thead>\n",
       "    <tr style=\"text-align: right;\">\n",
       "      <th></th>\n",
       "      <th>Date</th>\n",
       "      <th>Bitcoin</th>\n",
       "      <th>Ethereum</th>\n",
       "      <th>Litecoin</th>\n",
       "    </tr>\n",
       "  </thead>\n",
       "  <tbody>\n",
       "    <tr>\n",
       "      <th>0</th>\n",
       "      <td>Jul 27, 2023</td>\n",
       "      <td>29190.0</td>\n",
       "      <td>1859.03</td>\n",
       "      <td>90.47</td>\n",
       "    </tr>\n",
       "    <tr>\n",
       "      <th>1</th>\n",
       "      <td>Jul 26, 2023</td>\n",
       "      <td>29352.2</td>\n",
       "      <td>1872.00</td>\n",
       "      <td>90.66</td>\n",
       "    </tr>\n",
       "    <tr>\n",
       "      <th>2</th>\n",
       "      <td>Jul 25, 2023</td>\n",
       "      <td>29228.6</td>\n",
       "      <td>1857.67</td>\n",
       "      <td>89.45</td>\n",
       "    </tr>\n",
       "    <tr>\n",
       "      <th>3</th>\n",
       "      <td>Jul 24, 2023</td>\n",
       "      <td>29178.1</td>\n",
       "      <td>1850.04</td>\n",
       "      <td>89.14</td>\n",
       "    </tr>\n",
       "    <tr>\n",
       "      <th>4</th>\n",
       "      <td>Jul 23, 2023</td>\n",
       "      <td>30085.9</td>\n",
       "      <td>1888.85</td>\n",
       "      <td>93.15</td>\n",
       "    </tr>\n",
       "  </tbody>\n",
       "</table>\n",
       "</div>"
      ],
      "text/plain": [
       "           Date  Bitcoin  Ethereum  Litecoin\n",
       "0  Jul 27, 2023  29190.0   1859.03     90.47\n",
       "1  Jul 26, 2023  29352.2   1872.00     90.66\n",
       "2  Jul 25, 2023  29228.6   1857.67     89.45\n",
       "3  Jul 24, 2023  29178.1   1850.04     89.14\n",
       "4  Jul 23, 2023  30085.9   1888.85     93.15"
      ]
     },
     "execution_count": 23,
     "metadata": {},
     "output_type": "execute_result"
    }
   ],
   "source": [
    "coins=pd.read_csv(\"/Users/yihoon-j/Documents/fr/2학기 교안 작업/Coin.csv\", thousands=\",\")\n",
    "coins.head()"
   ]
  },
  {
   "cell_type": "markdown",
   "metadata": {},
   "source": [
    "이런 형태입니다. 그리고 이걸 timestamp 형식으로 바꾸면"
   ]
  },
  {
   "cell_type": "code",
   "execution_count": 24,
   "metadata": {},
   "outputs": [
    {
     "data": {
      "text/html": [
       "<div>\n",
       "<style scoped>\n",
       "    .dataframe tbody tr th:only-of-type {\n",
       "        vertical-align: middle;\n",
       "    }\n",
       "\n",
       "    .dataframe tbody tr th {\n",
       "        vertical-align: top;\n",
       "    }\n",
       "\n",
       "    .dataframe thead th {\n",
       "        text-align: right;\n",
       "    }\n",
       "</style>\n",
       "<table border=\"1\" class=\"dataframe\">\n",
       "  <thead>\n",
       "    <tr style=\"text-align: right;\">\n",
       "      <th></th>\n",
       "      <th>Date</th>\n",
       "      <th>Bitcoin</th>\n",
       "      <th>Ethereum</th>\n",
       "      <th>Litecoin</th>\n",
       "    </tr>\n",
       "  </thead>\n",
       "  <tbody>\n",
       "    <tr>\n",
       "      <th>0</th>\n",
       "      <td>2023-07-27</td>\n",
       "      <td>29190.0</td>\n",
       "      <td>1859.03</td>\n",
       "      <td>90.47</td>\n",
       "    </tr>\n",
       "    <tr>\n",
       "      <th>1</th>\n",
       "      <td>2023-07-26</td>\n",
       "      <td>29352.2</td>\n",
       "      <td>1872.00</td>\n",
       "      <td>90.66</td>\n",
       "    </tr>\n",
       "    <tr>\n",
       "      <th>2</th>\n",
       "      <td>2023-07-25</td>\n",
       "      <td>29228.6</td>\n",
       "      <td>1857.67</td>\n",
       "      <td>89.45</td>\n",
       "    </tr>\n",
       "    <tr>\n",
       "      <th>3</th>\n",
       "      <td>2023-07-24</td>\n",
       "      <td>29178.1</td>\n",
       "      <td>1850.04</td>\n",
       "      <td>89.14</td>\n",
       "    </tr>\n",
       "    <tr>\n",
       "      <th>4</th>\n",
       "      <td>2023-07-23</td>\n",
       "      <td>30085.9</td>\n",
       "      <td>1888.85</td>\n",
       "      <td>93.15</td>\n",
       "    </tr>\n",
       "  </tbody>\n",
       "</table>\n",
       "</div>"
      ],
      "text/plain": [
       "        Date  Bitcoin  Ethereum  Litecoin\n",
       "0 2023-07-27  29190.0   1859.03     90.47\n",
       "1 2023-07-26  29352.2   1872.00     90.66\n",
       "2 2023-07-25  29228.6   1857.67     89.45\n",
       "3 2023-07-24  29178.1   1850.04     89.14\n",
       "4 2023-07-23  30085.9   1888.85     93.15"
      ]
     },
     "execution_count": 24,
     "metadata": {},
     "output_type": "execute_result"
    }
   ],
   "source": [
    "coins['Date']=coins['Date'].apply(lambda x: dt.datetime.strptime(x,'%b %d, %Y'))\n",
    "coins.head()"
   ]
  },
  {
   "cell_type": "markdown",
   "metadata": {},
   "source": [
    "이런 모양이 되죠.\n",
    "\n",
    "그렇다면 이 인덱스를 \"27 Jul 2023, Sun.\"과 같은 형태로 바꾸고 싶다면 어떻게 해야 할까요?"
   ]
  },
  {
   "cell_type": "code",
   "execution_count": 29,
   "metadata": {},
   "outputs": [
    {
     "data": {
      "text/html": [
       "<div>\n",
       "<style scoped>\n",
       "    .dataframe tbody tr th:only-of-type {\n",
       "        vertical-align: middle;\n",
       "    }\n",
       "\n",
       "    .dataframe tbody tr th {\n",
       "        vertical-align: top;\n",
       "    }\n",
       "\n",
       "    .dataframe thead th {\n",
       "        text-align: right;\n",
       "    }\n",
       "</style>\n",
       "<table border=\"1\" class=\"dataframe\">\n",
       "  <thead>\n",
       "    <tr style=\"text-align: right;\">\n",
       "      <th></th>\n",
       "      <th>Date</th>\n",
       "      <th>Bitcoin</th>\n",
       "      <th>Ethereum</th>\n",
       "      <th>Litecoin</th>\n",
       "    </tr>\n",
       "  </thead>\n",
       "  <tbody>\n",
       "    <tr>\n",
       "      <th>0</th>\n",
       "      <td>27 Jul 2023, Thu.</td>\n",
       "      <td>29190.0</td>\n",
       "      <td>1859.03</td>\n",
       "      <td>90.47</td>\n",
       "    </tr>\n",
       "    <tr>\n",
       "      <th>1</th>\n",
       "      <td>26 Jul 2023, Wed.</td>\n",
       "      <td>29352.2</td>\n",
       "      <td>1872.00</td>\n",
       "      <td>90.66</td>\n",
       "    </tr>\n",
       "    <tr>\n",
       "      <th>2</th>\n",
       "      <td>25 Jul 2023, Tue.</td>\n",
       "      <td>29228.6</td>\n",
       "      <td>1857.67</td>\n",
       "      <td>89.45</td>\n",
       "    </tr>\n",
       "    <tr>\n",
       "      <th>3</th>\n",
       "      <td>24 Jul 2023, Mon.</td>\n",
       "      <td>29178.1</td>\n",
       "      <td>1850.04</td>\n",
       "      <td>89.14</td>\n",
       "    </tr>\n",
       "    <tr>\n",
       "      <th>4</th>\n",
       "      <td>23 Jul 2023, Sun.</td>\n",
       "      <td>30085.9</td>\n",
       "      <td>1888.85</td>\n",
       "      <td>93.15</td>\n",
       "    </tr>\n",
       "  </tbody>\n",
       "</table>\n",
       "</div>"
      ],
      "text/plain": [
       "                Date  Bitcoin  Ethereum  Litecoin\n",
       "0  27 Jul 2023, Thu.  29190.0   1859.03     90.47\n",
       "1  26 Jul 2023, Wed.  29352.2   1872.00     90.66\n",
       "2  25 Jul 2023, Tue.  29228.6   1857.67     89.45\n",
       "3  24 Jul 2023, Mon.  29178.1   1850.04     89.14\n",
       "4  23 Jul 2023, Sun.  30085.9   1888.85     93.15"
      ]
     },
     "execution_count": 29,
     "metadata": {},
     "output_type": "execute_result"
    }
   ],
   "source": [
    "coins=pd.read_csv(\"/Users/yihoon-j/Documents/fr/2학기 교안 작업/Coin.csv\", thousands=\",\")\n",
    "coins['Date']=coins['Date'].apply(lambda x: dt.datetime.strptime(x,'%b %d, %Y').strftime('%d %b %Y, %a.'))\n",
    "coins.head()"
   ]
  },
  {
   "cell_type": "markdown",
   "metadata": {},
   "source": [
    "그럼 마지막으로, pandas 교안으로 돌아가서, 아까 본 주 번호 생성 코드를 확인해 보겠습니다."
   ]
  }
 ],
 "metadata": {
  "kernelspec": {
   "display_name": "base",
   "language": "python",
   "name": "python3"
  },
  "language_info": {
   "codemirror_mode": {
    "name": "ipython",
    "version": 3
   },
   "file_extension": ".py",
   "mimetype": "text/x-python",
   "name": "python",
   "nbconvert_exporter": "python",
   "pygments_lexer": "ipython3",
   "version": "3.9.13"
  },
  "orig_nbformat": 4
 },
 "nbformat": 4,
 "nbformat_minor": 2
}
