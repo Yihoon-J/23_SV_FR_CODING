{
 "cells": [
  {
   "cell_type": "code",
   "execution_count": 2,
   "metadata": {},
   "outputs": [],
   "source": [
    "import numpy as np"
   ]
  },
  {
   "cell_type": "markdown",
   "metadata": {},
   "source": [
    "# Numpy (2)\n",
    "## 기타 주요 함수들"
   ]
  },
  {
   "cell_type": "code",
   "execution_count": 14,
   "metadata": {},
   "outputs": [
    {
     "name": "stdout",
     "output_type": "stream",
     "text": [
      "before: \n",
      " [[ 5  9 10  3  1]\n",
      " [ 8  3  4  2  5]]\n",
      "\n",
      "after: \n",
      " [[ 5  3  4  2  1]\n",
      " [ 8  9 10  3  5]]\n"
     ]
    }
   ],
   "source": [
    "#array 정렬하기\n",
    "a1 = np.array([[5, 9, 10, 3, 1], [8, 3, 4, 2, 5]])\n",
    "print('before: \\n',a1)\n",
    "a1.sort(axis=0)\n",
    "print('\\nafter: \\n',a1)"
   ]
  },
  {
   "cell_type": "code",
   "execution_count": 51,
   "metadata": {},
   "outputs": [
    {
     "name": "stdout",
     "output_type": "stream",
     "text": [
      "[1 2 3]\n"
     ]
    }
   ],
   "source": [
    "#중복된 요소 제거하기\n",
    "a2 = np.array([1, 1, 2, 3, 3, 3, 1])\n",
    "print(np.unique(array))"
   ]
  },
  {
   "cell_type": "markdown",
   "metadata": {},
   "source": [
    "## 행렬 인덱싱 2\n",
    "`np.where` 문을 활용한 인덱싱"
   ]
  },
  {
   "cell_type": "code",
   "execution_count": 62,
   "metadata": {},
   "outputs": [
    {
     "data": {
      "text/plain": [
       "(array([0, 1, 1, 1, 2, 2, 2]), array([1, 0, 1, 2, 0, 1, 2]))"
      ]
     },
     "execution_count": 62,
     "metadata": {},
     "output_type": "execute_result"
    }
   ],
   "source": [
    "#np.where\n",
    "a3=np.array([[1,2,3],\n",
    "            [4,5,6],\n",
    "            [7,8,9]])\n",
    "\n",
    "np.where(a3>4)\n",
    "#리턴값은 각각 조건을 만족하는 요소의 행 배열, 열 배열임\n",
    "\n",
    "np.where((a3%2==0) & (a3>4)) #조건식은 꼭 괄호로 묶어 주기. and=&, or=|"
   ]
  },
  {
   "cell_type": "code",
   "execution_count": 65,
   "metadata": {},
   "outputs": [
    {
     "data": {
      "text/plain": [
       "array([[nan, nan, nan],\n",
       "       [nan, nan,  6.],\n",
       "       [ 7.,  8.,  9.]])"
      ]
     },
     "execution_count": 65,
     "metadata": {},
     "output_type": "execute_result"
    }
   ],
   "source": [
    "#응용: 조건을 만족하는 요소만 출력하기\n",
    "np.where(a3<6, np.nan, a3)"
   ]
  },
  {
   "cell_type": "code",
   "execution_count": 10,
   "metadata": {},
   "outputs": [
    {
     "data": {
      "text/plain": [
       "-1.2246467991473532e-16"
      ]
     },
     "execution_count": 10,
     "metadata": {},
     "output_type": "execute_result"
    }
   ],
   "source": [
    "#삼각함수 계산\n",
    "np.sin(np.pi)\n",
    "# np.cos(np.pi)\n",
    "# np.tan(np.pi)"
   ]
  },
  {
   "cell_type": "markdown",
   "metadata": {},
   "source": [
    "## 다항식 연산\n",
    "다항식을 만들 때는 `np.poly1d`를 사용합니다.\n",
    "\n",
    "첫 번째 인자로 인수들의 배열을, 두 번째 인자로 근/계수 여부, 세 번째 인자로 변수명을 지정합니다.\n",
    "\n",
    "- True 지정 시 각 인자들은 (다항식)=0을 충족하는 방정식의 근이 됩니다.\n",
    "- False 지정 시 각 인자들은 다항식의 계수가 됩니다. 기본값은 False입니다."
   ]
  },
  {
   "cell_type": "code",
   "execution_count": 70,
   "metadata": {},
   "outputs": [
    {
     "data": {
      "text/plain": [
       "poly1d([ 1., -3.,  2.])"
      ]
     },
     "execution_count": 70,
     "metadata": {},
     "output_type": "execute_result"
    }
   ],
   "source": [
    "np.poly1d([1,2], True, variable='x') #(x-1)(x-2)=0 OR x^2-3x+2=0\n",
    "#variable은 지정하지 않으면 x가 기본"
   ]
  },
  {
   "cell_type": "code",
   "execution_count": 93,
   "metadata": {},
   "outputs": [
    {
     "data": {
      "text/plain": [
       "poly1d([1, 2])"
      ]
     },
     "execution_count": 93,
     "metadata": {},
     "output_type": "execute_result"
    }
   ],
   "source": [
    "np.poly1d([1,2], False, variable='x') #x+2=0"
   ]
  },
  {
   "cell_type": "code",
   "execution_count": 73,
   "metadata": {},
   "outputs": [
    {
     "data": {
      "text/plain": [
       "poly1d([ 2,  0, -1,  1])"
      ]
     },
     "execution_count": 73,
     "metadata": {},
     "output_type": "execute_result"
    }
   ],
   "source": [
    "#2x^3-x+1=0을 구현해보자\n",
    "np.poly1d()"
   ]
  },
  {
   "cell_type": "code",
   "execution_count": 92,
   "metadata": {},
   "outputs": [
    {
     "name": "stdout",
     "output_type": "stream",
     "text": [
      "[-3.  2.  1.]\n",
      "[-3.  2.  1.]\n"
     ]
    }
   ],
   "source": [
    "#해 계산: r 또는 np.roots\n",
    "eq1=np.poly1d([2,1,-3], True) #(x-2)(x-1)(x+3)\n",
    "print(eq1.r)\n",
    "print(np.roots(eq1))"
   ]
  },
  {
   "cell_type": "code",
   "execution_count": 90,
   "metadata": {},
   "outputs": [
    {
     "data": {
      "text/plain": [
       "0.0"
      ]
     },
     "execution_count": 90,
     "metadata": {},
     "output_type": "execute_result"
    }
   ],
   "source": [
    "#polyval: 값을 넣어서 연산\n",
    "np.polyval(eq1, 2)"
   ]
  },
  {
   "cell_type": "code",
   "execution_count": 96,
   "metadata": {},
   "outputs": [
    {
     "data": {
      "text/plain": [
       "poly1d([1., 6., 5., 0.])"
      ]
     },
     "execution_count": 96,
     "metadata": {},
     "output_type": "execute_result"
    }
   ],
   "source": [
    "#값 대신 식을 집어넣을 수도 있다\n",
    "np.polyval(eq1,np.poly1d([1,2])) #((x+2)-2)((x+2)-1)((x+2)+3) = 0 즉 x(x+1)(x+5)=0"
   ]
  },
  {
   "cell_type": "markdown",
   "metadata": {},
   "source": [
    "## 다항식의 연산, 미분과 적분"
   ]
  },
  {
   "cell_type": "code",
   "execution_count": 6,
   "metadata": {},
   "outputs": [
    {
     "name": "stdout",
     "output_type": "stream",
     "text": [
      "   2\n",
      "1 x + 4 x + 10 \n",
      "\n",
      "   2\n",
      "1 x - 4 \n",
      "\n",
      "   3      2\n",
      "2 x + 11 x + 20 x + 21 \n",
      "\n",
      "(poly1d([ 0.5 , -0.75]), poly1d([8.25])) \n",
      "\n"
     ]
    }
   ],
   "source": [
    "#다항식의 사칙연산\n",
    "eq2=np.poly1d([1,2,3]) # x^2+2x+3\n",
    "eq3=np.poly1d([2,7]) # 2x+7\n",
    "\n",
    "print(np.polyadd(eq2, eq3),'\\n')\n",
    "print(np.polysub(eq2, eq3),'\\n')\n",
    "print(np.polymul(eq2, eq3),'\\n')\n",
    "print(np.polydiv(eq2, eq3),'\\n') #몫-나머지 형태로 결과 반환"
   ]
  },
  {
   "cell_type": "code",
   "execution_count": 108,
   "metadata": {},
   "outputs": [
    {
     "name": "stdout",
     "output_type": "stream",
     "text": [
      "미분 전:\n",
      "    2\n",
      "2 x + 1 x - 3\n"
     ]
    }
   ],
   "source": [
    "#polyder: 미분\n",
    "eq4=np.poly1d([2,1,-3])\n",
    "print('미분 전:\\n', eq4)\n"
   ]
  },
  {
   "cell_type": "code",
   "execution_count": 117,
   "metadata": {},
   "outputs": [
    {
     "name": "stdout",
     "output_type": "stream",
     "text": [
      "\n",
      "1차 미분 후:  \n",
      "4 x + 1\n"
     ]
    }
   ],
   "source": [
    "eq4d=np.polyder(eq4, m=1)\n",
    "print('\\n1차 미분 후:', eq4d)"
   ]
  },
  {
   "cell_type": "code",
   "execution_count": 112,
   "metadata": {},
   "outputs": [
    {
     "name": "stdout",
     "output_type": "stream",
     "text": [
      "적분 전:\n",
      "    2\n",
      "2 x + 1 x - 3\n"
     ]
    }
   ],
   "source": [
    "#polyint: 적분\n",
    "eq4=np.poly1d([2,1,-3])\n",
    "print('적분 전:\\n', eq4)"
   ]
  },
  {
   "cell_type": "code",
   "execution_count": 115,
   "metadata": {},
   "outputs": [
    {
     "name": "stdout",
     "output_type": "stream",
     "text": [
      "1차 적분 후:\n",
      "         3       2\n",
      "0.6667 x + 0.5 x - 3 x + 7\n"
     ]
    }
   ],
   "source": [
    "eq4i=np.polyint(eq4, m=1, k=7)\n",
    "print('1차 적분 후:\\n', eq4i)"
   ]
  }
 ],
 "metadata": {
  "kernelspec": {
   "display_name": "Python 3",
   "language": "python",
   "name": "python3"
  },
  "language_info": {
   "codemirror_mode": {
    "name": "ipython",
    "version": 3
   },
   "file_extension": ".py",
   "mimetype": "text/x-python",
   "name": "python",
   "nbconvert_exporter": "python",
   "pygments_lexer": "ipython3",
   "version": "3.9.13"
  },
  "orig_nbformat": 4
 },
 "nbformat": 4,
 "nbformat_minor": 2
}
